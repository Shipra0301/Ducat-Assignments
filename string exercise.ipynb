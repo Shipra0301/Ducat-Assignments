{
 "cells": [
  {
   "cell_type": "code",
   "execution_count": 1,
   "id": "4c58a0b6-7bcc-4240-9627-2d66fabd3c2c",
   "metadata": {},
   "outputs": [
    {
     "name": "stdout",
     "output_type": "stream",
     "text": [
      "good morning\n"
     ]
    }
   ],
   "source": [
    "# Q1.How do you concatenate two strings in python ?\n",
    "string1 = \"good \"\n",
    "string2 = \"morning\"\n",
    "string = string1 + string2\n",
    "print(string)"
   ]
  },
  {
   "cell_type": "code",
   "execution_count": 3,
   "id": "ca67fcb5-2284-46c3-b8d2-d1cd9cb491d0",
   "metadata": {},
   "outputs": [
    {
     "name": "stdout",
     "output_type": "stream",
     "text": [
      "Hello\n",
      "How are you ?\n"
     ]
    }
   ],
   "source": [
    "# Q2.What is the difference between the + operator and the join() method for concatenating strings?\n",
    "#+operator\n",
    "string1 = \"Hello\\n\"\n",
    "string2 = \"How are you ?\"\n",
    "string = string1 + string2\n",
    "print(string)\n"
   ]
  },
  {
   "cell_type": "code",
   "execution_count": 8,
   "id": "57ca8170-6764-44e8-a893-1db99bdf0707",
   "metadata": {},
   "outputs": [
    {
     "data": {
      "text/plain": [
       "'uHiinHiicHiilHiie'"
      ]
     },
     "execution_count": 8,
     "metadata": {},
     "output_type": "execute_result"
    }
   ],
   "source": [
    "#join() method \n",
    "string = \"Hii\"\n",
    "string.join(\"uncle\")\n"
   ]
  },
  {
   "cell_type": "code",
   "execution_count": 1,
   "id": "97500a7c-ddd4-4913-9dfb-49a779bda373",
   "metadata": {},
   "outputs": [
    {
     "data": {
      "text/plain": [
       "5"
      ]
     },
     "execution_count": 1,
     "metadata": {},
     "output_type": "execute_result"
    }
   ],
   "source": [
    "# Q4.What method is used to find the length of a string in python?\n",
    "len(\"rohan\")"
   ]
  },
  {
   "cell_type": "code",
   "execution_count": 3,
   "id": "181d7d0c-385a-4671-b6fe-fd6b2f57f1b1",
   "metadata": {},
   "outputs": [
    {
     "data": {
      "text/plain": [
       "'HELLO SIMAR '"
      ]
     },
     "execution_count": 3,
     "metadata": {},
     "output_type": "execute_result"
    }
   ],
   "source": [
    "#Q5.How can you convert a string to uppercase in python?\n",
    "str.upper(\"hello simar \")"
   ]
  },
  {
   "cell_type": "code",
   "execution_count": 6,
   "id": "920afcda-687b-4382-b4f5-564c3d7d399d",
   "metadata": {},
   "outputs": [
    {
     "data": {
      "text/plain": [
       "'hii how are you '"
      ]
     },
     "execution_count": 6,
     "metadata": {},
     "output_type": "execute_result"
    }
   ],
   "source": [
    "#Q6.How can you convert a string to lowercase in python?\n",
    "str.lower(\"HII HOW ARE YOU \")"
   ]
  },
  {
   "cell_type": "code",
   "execution_count": 20,
   "id": "d0d1a145-25e2-4171-9ce5-4c7f1d02ca21",
   "metadata": {},
   "outputs": [
    {
     "name": "stdout",
     "output_type": "stream",
     "text": [
      "d\n",
      "k\n"
     ]
    }
   ],
   "source": [
    "#Q3.How do you access individual characters in a string?\n",
    "name = \"daksh\"\n",
    "first_char = name[0]\n",
    "third_char = name[2]\n",
    "print(first_char)\n",
    "print(third_char)"
   ]
  },
  {
   "cell_type": "code",
   "execution_count": 24,
   "id": "ba90ae89-7956-498f-8a89-82db231dfe1c",
   "metadata": {},
   "outputs": [
    {
     "name": "stdout",
     "output_type": "stream",
     "text": [
      "how are fine ?\n"
     ]
    }
   ],
   "source": [
    "#Q7.What method is used to repalce substring within a string?\n",
    "string = \"how is fine ?\"\n",
    "string = string.replace(\"is\",\"are\")\n",
    "print(string)\n"
   ]
  },
  {
   "cell_type": "code",
   "execution_count": 34,
   "id": "1914420c-cb2e-40d6-be88-b033a9e624b2",
   "metadata": {},
   "outputs": [
    {
     "name": "stdout",
     "output_type": "stream",
     "text": [
      "['apple', 'mango', 'orange']\n"
     ]
    }
   ],
   "source": [
    "#Q8.How can you split a string into a list of substrings based on a delimiter?  \n",
    "fruits_string = \"apple,mango,orange\"\n",
    "fruits_list = fruits_string.split(',')\n",
    "print(fruits_list)"
   ]
  },
  {
   "cell_type": "code",
   "execution_count": 39,
   "id": "4b6c84d4-8209-4985-8d99-4e1ce0f6e953",
   "metadata": {},
   "outputs": [
    {
     "name": "stdout",
     "output_type": "stream",
     "text": [
      "True\n"
     ]
    }
   ],
   "source": [
    "#Q9.How do you check if a string starts with a particular substring?\n",
    "string = \"Taj Mahal is a historical place\"\n",
    "print(string.startswith(\"Taj\"))\n"
   ]
  },
  {
   "cell_type": "code",
   "execution_count": 40,
   "id": "9fd9a68f-6ed6-4ab4-b792-c22c387427ac",
   "metadata": {},
   "outputs": [
    {
     "name": "stdout",
     "output_type": "stream",
     "text": [
      "False\n"
     ]
    }
   ],
   "source": [
    "#Q10.How do you check if a string ends with a particular substring?\n",
    "string = \"Taj Mahal is a historical place\"\n",
    "print(string.endswith(\"Mahal\"))\n"
   ]
  },
  {
   "cell_type": "code",
   "execution_count": 45,
   "id": "bd5b79f3-3a35-4aaa-9d43-88fdd7cc985c",
   "metadata": {},
   "outputs": [
    {
     "name": "stdout",
     "output_type": "stream",
     "text": [
      "hello world\n"
     ]
    }
   ],
   "source": [
    "#Q11.How can you remove leading and trailing whitespace from a string?\n",
    "string = \"  hello world  \"\n",
    "clean_string = string.strip(\" \")\n",
    "print(clean_string)"
   ]
  },
  {
   "cell_type": "code",
   "execution_count": 47,
   "id": "f3dcdc64-ecdd-4306-92ed-7ebc9562bf74",
   "metadata": {},
   "outputs": [
    {
     "name": "stdout",
     "output_type": "stream",
     "text": [
      "5\n"
     ]
    }
   ],
   "source": [
    "#Q12.What method is used to find the index of the first occurrence of a substring within a string?\n",
    "string = \"what is this \"\n",
    "print(string.find(\"is\"))"
   ]
  },
  {
   "cell_type": "code",
   "execution_count": 49,
   "id": "911f49d6-06c2-4b40-9046-0766af4be3de",
   "metadata": {},
   "outputs": [
    {
     "name": "stdout",
     "output_type": "stream",
     "text": [
      "2\n"
     ]
    }
   ],
   "source": [
    "#Q13.How can you count the number of occurrences of a substring within a string?\n",
    "string = \"apple\"\n",
    "print(string.count(\"p\"))"
   ]
  },
  {
   "cell_type": "code",
   "execution_count": 54,
   "id": "cb26457b-b6d9-424d-8ea9-9a857e43d7f0",
   "metadata": {},
   "outputs": [
    {
     "name": "stdout",
     "output_type": "stream",
     "text": [
      "False\n"
     ]
    }
   ],
   "source": [
    "#Q14.How do you check if a string contains only alphabetic characters?\n",
    "string = \"ship1\"\n",
    "print(string.isalpha())"
   ]
  },
  {
   "cell_type": "code",
   "execution_count": 55,
   "id": "6d350785-7492-46cf-9485-20064338a862",
   "metadata": {},
   "outputs": [
    {
     "name": "stdout",
     "output_type": "stream",
     "text": [
      "True\n"
     ]
    }
   ],
   "source": [
    "#Q15.How do you check if a string contains only numeric characters?\n",
    "string = \"12\"\n",
    "print(string.isdigit())"
   ]
  },
  {
   "cell_type": "code",
   "execution_count": 60,
   "id": "e0cd5ec0-cace-4f3c-b767-d6cd61ae720b",
   "metadata": {},
   "outputs": [
    {
     "data": {
      "text/plain": [
       "True"
      ]
     },
     "execution_count": 60,
     "metadata": {},
     "output_type": "execute_result"
    }
   ],
   "source": [
    "#Q16.How can you check if a string is a palindrome?\n",
    "string = \"naman\"\n",
    "reversed_string = string[::-1]\n",
    "string == reversed_string"
   ]
  },
  {
   "cell_type": "code",
   "execution_count": 61,
   "id": "b28eea9b-1379-4c35-a823-f49c3301abad",
   "metadata": {},
   "outputs": [
    {
     "name": "stdout",
     "output_type": "stream",
     "text": [
      "olleh\n"
     ]
    }
   ],
   "source": [
    "#Q17.How can you reverse a string in python?\n",
    "string = \"hello\"\n",
    "reversed_string = string[::-1]\n",
    "print(reversed_string)"
   ]
  },
  {
   "cell_type": "code",
   "execution_count": 63,
   "id": "37dbed08-c32c-4b2f-9392-0a648c2b3217",
   "metadata": {},
   "outputs": [
    {
     "name": "stdout",
     "output_type": "stream",
     "text": [
      "hi ,i am rahul! my age is 14 years old. \n"
     ]
    }
   ],
   "source": [
    "#Q18.How do you format a string with placeholders for variable values?\n",
    "name = \"rahul\"\n",
    "age = 14\n",
    "print(f\"hi ,i am {name}! my age is {age} years old. \")"
   ]
  },
  {
   "cell_type": "code",
   "execution_count": 68,
   "id": "72caa7ec-ab3a-4bd4-9875-de75f4387561",
   "metadata": {},
   "outputs": [
    {
     "name": "stdout",
     "output_type": "stream",
     "text": [
      " you\n"
     ]
    }
   ],
   "source": [
    "#Q19.How do you access a substring of a string using slicing?\n",
    "string = \"are you innocent\"\n",
    "substring = string[3:7]\n",
    "print(substring)\n"
   ]
  },
  {
   "cell_type": "code",
   "execution_count": 65,
   "id": "703fa970-576d-447d-9bb2-55fa17c4ab57",
   "metadata": {},
   "outputs": [
    {
     "name": "stdout",
     "output_type": "stream",
     "text": [
      "gmail.com\n"
     ]
    }
   ],
   "source": [
    "#Q20.How can you remove specific characters from a string in python?\n",
    "string = \"gmail,com\"\n",
    "print(string.replace(\",\",\".\"))"
   ]
  }
 ],
 "metadata": {
  "kernelspec": {
   "display_name": "Python 3 (ipykernel)",
   "language": "python",
   "name": "python3"
  },
  "language_info": {
   "codemirror_mode": {
    "name": "ipython",
    "version": 3
   },
   "file_extension": ".py",
   "mimetype": "text/x-python",
   "name": "python",
   "nbconvert_exporter": "python",
   "pygments_lexer": "ipython3",
   "version": "3.13.5"
  }
 },
 "nbformat": 4,
 "nbformat_minor": 5
}
