{
 "cells": [
  {
   "cell_type": "code",
   "execution_count": 2,
   "id": "57fb3e0d-a9fe-47b5-be67-0914b7722335",
   "metadata": {},
   "outputs": [
    {
     "name": "stdout",
     "output_type": "stream",
     "text": [
      "1\n",
      "2\n",
      "3\n",
      "4\n",
      "5\n",
      "6\n",
      "7\n",
      "8\n",
      "9\n",
      "10\n"
     ]
    }
   ],
   "source": [
    "#Q1.WAP to print all the numbers from 1 to 10 using a for loop?\n",
    "for i in range(1,11,1):\n",
    "    print(i)\n",
    "      "
   ]
  },
  {
   "cell_type": "code",
   "execution_count": 9,
   "id": "5729361d-5fa3-4107-aade-589f1e3e9268",
   "metadata": {},
   "outputs": [
    {
     "name": "stdout",
     "output_type": "stream",
     "text": [
      "1\n",
      "3\n",
      "6\n",
      "10\n",
      "15\n",
      "21\n",
      "28\n",
      "36\n",
      "45\n",
      "55\n",
      "66\n",
      "78\n",
      "91\n",
      "105\n",
      "120\n",
      "136\n",
      "153\n",
      "171\n",
      "190\n",
      "210\n",
      "231\n",
      "253\n",
      "276\n",
      "300\n",
      "325\n",
      "351\n",
      "378\n",
      "406\n",
      "435\n",
      "465\n",
      "496\n",
      "528\n",
      "561\n",
      "595\n",
      "630\n",
      "666\n",
      "703\n",
      "741\n",
      "780\n",
      "820\n",
      "861\n",
      "903\n",
      "946\n",
      "990\n",
      "1035\n",
      "1081\n",
      "1128\n",
      "1176\n",
      "1225\n",
      "1275\n",
      "1326\n",
      "1378\n",
      "1431\n",
      "1485\n",
      "1540\n",
      "1596\n",
      "1653\n",
      "1711\n",
      "1770\n",
      "1830\n",
      "1891\n",
      "1953\n",
      "2016\n",
      "2080\n",
      "2145\n",
      "2211\n",
      "2278\n",
      "2346\n",
      "2415\n",
      "2485\n",
      "2556\n",
      "2628\n",
      "2701\n",
      "2775\n",
      "2850\n",
      "2926\n",
      "3003\n",
      "3081\n",
      "3160\n",
      "3240\n",
      "3321\n",
      "3403\n",
      "3486\n",
      "3570\n",
      "3655\n",
      "3741\n",
      "3828\n",
      "3916\n",
      "4005\n",
      "4095\n",
      "4186\n",
      "4278\n",
      "4371\n",
      "4465\n",
      "4560\n",
      "4656\n",
      "4753\n",
      "4851\n",
      "4950\n",
      "5050\n"
     ]
    }
   ],
   "source": [
    "#Q2. WAP to find the sum of all number from 1 to 100 using for loop?\n",
    "sum= 0\n",
    "for i in range(1,101):\n",
    "    sum += i \n",
    "    print(sum)\n",
    "    \n"
   ]
  },
  {
   "cell_type": "code",
   "execution_count": 16,
   "id": "3612ca28-35d8-4de3-abdd-9e02f5f14ca5",
   "metadata": {},
   "outputs": [
    {
     "name": "stdin",
     "output_type": "stream",
     "text": [
      "enter a number 12\n"
     ]
    },
    {
     "name": "stdout",
     "output_type": "stream",
     "text": [
      "12\n",
      "24\n",
      "36\n",
      "48\n",
      "60\n",
      "72\n",
      "84\n",
      "96\n",
      "108\n",
      "120\n"
     ]
    }
   ],
   "source": [
    "#Q3.WAP to print the multiplication table of a given number using a for loop?\n",
    "j = int(input(\"enter a number\"))\n",
    "for i in range(1,11):\n",
    "    print(j*i)\n",
    "    \n",
    "\n",
    "\n"
   ]
  },
  {
   "cell_type": "code",
   "execution_count": 4,
   "id": "14d6cd00-a0fd-4f92-93dc-f33fb4189636",
   "metadata": {},
   "outputs": [
    {
     "name": "stdout",
     "output_type": "stream",
     "text": [
      "even number: 5\n",
      "odd number: 5\n"
     ]
    }
   ],
   "source": [
    "#Q4.WAP to count the number of even and odd numbers from a series of numbers using a for loop?\n",
    "list1 = [1,2,3,4,5,6,7,8,9,10]\n",
    "even = 0\n",
    "odd = 0\n",
    "for num in list1:\n",
    "    if num % 2 == 0:\n",
    "        even += 1\n",
    "    else:   \n",
    "        odd +=1\n",
    "print(\"even number:\",even)       \n",
    "print(\"odd number:\",odd)     \n",
    "    \n",
    "        \n",
    "    \n",
    "    "
   ]
  },
  {
   "cell_type": "code",
   "execution_count": 7,
   "id": "cac3e11a-0566-4eea-be9e-7eeb9d2527c0",
   "metadata": {},
   "outputs": [
    {
     "name": "stdin",
     "output_type": "stream",
     "text": [
      "enter a number 6\n"
     ]
    },
    {
     "name": "stdout",
     "output_type": "stream",
     "text": [
      "1\n",
      "2\n",
      "6\n",
      "24\n",
      "120\n",
      "720\n"
     ]
    }
   ],
   "source": [
    "#Q5.WAP to find the factorial of a number using for a for loop?\n",
    "n = int(input(\"enter a number\"))\n",
    "fact = 1\n",
    "for i in range(1,n+1):\n",
    "    fact*=i\n",
    "    print(fact)"
   ]
  },
  {
   "cell_type": "code",
   "execution_count": 27,
   "id": "2f2e0588-631c-40fa-9cfe-1c4da5d72de7",
   "metadata": {},
   "outputs": [
    {
     "name": "stdin",
     "output_type": "stream",
     "text": [
      "Enter a number:  4\n"
     ]
    },
    {
     "name": "stdout",
     "output_type": "stream",
     "text": [
      "Fibonacci sequence:\n",
      "0 1 1 2 "
     ]
    }
   ],
   "source": [
    "#Q6.WAP to print the fibonacci sequence up to a specified number using a for loop?\n",
    "n = int(input(\"Enter a number: \"))\n",
    "\n",
    "a, b = 0, 1  \n",
    "\n",
    "print(\"Fibonacci sequence:\")\n",
    "\n",
    "for i in range(n):\n",
    "    print(a, end=\" \")\n",
    "    a, b = b, a + b  \n",
    "\n"
   ]
  },
  {
   "cell_type": "code",
   "execution_count": 33,
   "id": "ff5bd46c-af37-4b2e-8d2e-e0c252e47460",
   "metadata": {},
   "outputs": [
    {
     "name": "stdin",
     "output_type": "stream",
     "text": [
      "Enter a number:  7\n"
     ]
    },
    {
     "name": "stdout",
     "output_type": "stream",
     "text": [
      "It is   a prime number\n"
     ]
    }
   ],
   "source": [
    "#Q7.WAP  to check if a given number is prime or not using a for loop?\n",
    "n = int(input(\"Enter a number: \"))\n",
    "if n <= 1:\n",
    "    print(\"It is not   a prime number\")          \n",
    "else:\n",
    "    for i in range(2, n):   \n",
    "        if n % i == 0:\n",
    "            print(\"It is not  a prime number\")\n",
    "            break\n",
    "    else:\n",
    "        print(\"It is   a prime number\")\n"
   ]
  },
  {
   "cell_type": "code",
   "execution_count": 14,
   "id": "a4d0455e-8b9a-425f-9247-96d6cb8b1845",
   "metadata": {},
   "outputs": [
    {
     "ename": "SyntaxError",
     "evalue": "invalid syntax (3586369646.py, line 3)",
     "output_type": "error",
     "traceback": [
      "\u001b[1;36m  Cell \u001b[1;32mIn[14], line 3\u001b[1;36m\u001b[0m\n\u001b[1;33m    largest element = a[0]\u001b[0m\n\u001b[1;37m            ^\u001b[0m\n\u001b[1;31mSyntaxError\u001b[0m\u001b[1;31m:\u001b[0m invalid syntax\n"
     ]
    }
   ],
   "source": [
    "#Q8.WAP to find the largest element in a list using for loop?\n",
    "a = [1, 2, 3, 4, 5, 6, 7, 8, 9]\n",
    "\n",
    "largest = a[0]   # assume first element is largest\n",
    "\n",
    "for num in a:\n",
    "    if num > largest:\n",
    "        largest = num\n",
    "\n",
    "print(\"The largest element is:\", largest)"
   ]
  },
  {
   "cell_type": "code",
   "execution_count": 18,
   "id": "ef9e693c-659b-47b8-8867-9e30bc1beef6",
   "metadata": {},
   "outputs": [
    {
     "name": "stdout",
     "output_type": "stream",
     "text": [
      "olleh\n"
     ]
    }
   ],
   "source": [
    "#Q9.WAP to reverse a given string using a for loop?\n",
    "string = \"hello\"\n",
    "rev = \"\"\n",
    "for ch in string:\n",
    "    rev = ch + rev\n",
    "print(rev)    \n",
    "    "
   ]
  },
  {
   "cell_type": "code",
   "execution_count": 17,
   "id": "9fe35422-8f2c-4bb9-a095-ae1473a9653d",
   "metadata": {},
   "outputs": [
    {
     "name": "stdout",
     "output_type": "stream",
     "text": [
      "[1]\n"
     ]
    }
   ],
   "source": [
    "#Q10.WAP to find the common elements between two lists using a for loop?\n",
    "list1 = [1,2,3]\n",
    "list2 = [4,5,1]\n",
    "common = []\n",
    "for x in list1:\n",
    "    if x in list2:\n",
    "        common.append(x)\n",
    "print(common)        \n"
   ]
  }
 ],
 "metadata": {
  "kernelspec": {
   "display_name": "Python 3 (ipykernel)",
   "language": "python",
   "name": "python3"
  },
  "language_info": {
   "codemirror_mode": {
    "name": "ipython",
    "version": 3
   },
   "file_extension": ".py",
   "mimetype": "text/x-python",
   "name": "python",
   "nbconvert_exporter": "python",
   "pygments_lexer": "ipython3",
   "version": "3.13.5"
  }
 },
 "nbformat": 4,
 "nbformat_minor": 5
}
