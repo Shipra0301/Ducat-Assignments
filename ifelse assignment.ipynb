{
 "cells": [
  {
   "cell_type": "code",
   "execution_count": 3,
   "id": "eb5ac5bd-d176-4ccf-aca6-4671c00b2132",
   "metadata": {},
   "outputs": [
    {
     "name": "stdin",
     "output_type": "stream",
     "text": [
      "Enter a number 567\n"
     ]
    },
    {
     "name": "stdout",
     "output_type": "stream",
     "text": [
      "It is three digit number\n"
     ]
    }
   ],
   "source": [
    "#Q10.WAP to check whether a number entered is three -digit number or not?\n",
    "num = int(input(\"Enter a number\"))\n",
    "if num>=100 and num<=999:\n",
    "    print(\"It is three digit number\")\n",
    "else:\n",
    "    print(\"Invalid number\")\n",
    "\n",
    "    \n"
   ]
  },
  {
   "cell_type": "code",
   "execution_count": 8,
   "id": "8553fd19-1d06-4f72-8871-286b9717607d",
   "metadata": {},
   "outputs": [
    {
     "name": "stdin",
     "output_type": "stream",
     "text": [
      "Enter a number 59\n"
     ]
    },
    {
     "name": "stdout",
     "output_type": "stream",
     "text": [
      "It is divisible by 3\n"
     ]
    }
   ],
   "source": [
    "#Q9.WAP to check whether the last digit of a number(entered by user ) is divisible by 3 or not?\n",
    "num = int(input(\"Enter a number\"))\n",
    "last_digit = num % 10\n",
    "if last_digit % 3 ==0:\n",
    "    print(\"It is divisible by 3\")\n",
    "else:\n",
    "    print(\"It is not divisible by 3\")"
   ]
  },
  {
   "cell_type": "code",
   "execution_count": 10,
   "id": "c4782b4a-68b0-4eff-afed-3da60b416fef",
   "metadata": {},
   "outputs": [
    {
     "name": "stdin",
     "output_type": "stream",
     "text": [
      "Enter a number 23\n"
     ]
    },
    {
     "name": "stdout",
     "output_type": "stream",
     "text": [
      "Bye\n"
     ]
    }
   ],
   "source": [
    "#Q8.WAP to display \"Hello\" if a number entered by user is a multiple of five , otherwise print \"Bye\"?\n",
    "num = int(input(\"Enter a number\"))\n",
    "if num % 5 == 0:\n",
    "    print(\"Hello\")\n",
    "else:\n",
    "    print(\"Bye\")\n"
   ]
  },
  {
   "cell_type": "code",
   "execution_count": 15,
   "id": "b0270946-892a-49f2-ab23-4b35b9fd201a",
   "metadata": {},
   "outputs": [
    {
     "name": "stdin",
     "output_type": "stream",
     "text": [
      "enter a english marks 90\n",
      "enter a math marks 89\n",
      "enter a science marks 99\n",
      "enter a socialstudies marks 0\n"
     ]
    },
    {
     "name": "stdout",
     "output_type": "stream",
     "text": [
      "Commerce\n"
     ]
    }
   ],
   "source": [
    "#Q7.Accept the marks of english ,math and science,social studies subject and display the stream allotted according to following:\n",
    "English = int(input(\"enter a english marks\"))\n",
    "Math = int(input(\"enter a math marks\"))\n",
    "Science = int(input(\"enter a science marks\"))\n",
    "SocialStudies =int(input(\"enter a socialstudies marks\"))\n",
    "if English>80 and Math>80 and Science>80 and SocialStudies>80:\n",
    "    print(\"Science Stream\")\n",
    "elif English>80 and Math>50 and Science>50:\n",
    "    print(\"Commerce\")\n",
    "elif English>80 and SocialStudies>80:\n",
    "    print(\"Humanities\")\n",
    "else :\n",
    "     print(\"invalid\")\n",
    "\n",
    "\n",
    "\n"
   ]
  },
  {
   "cell_type": "code",
   "execution_count": 29,
   "id": "4ec9b0a0-3928-43e4-9277-422a3949e446",
   "metadata": {},
   "outputs": [
    {
     "name": "stdin",
     "output_type": "stream",
     "text": [
      "enter a first number 5\n",
      "enter a second number 6\n",
      "enter a third number 7\n"
     ]
    },
    {
     "name": "stdout",
     "output_type": "stream",
     "text": [
      "second largest number is  6\n"
     ]
    }
   ],
   "source": [
    "# Q5.Accept three numbers from the user and display the second largest number?\n",
    "num1 = int(input(\"enter a first number\"))\n",
    "num2 = int(input(\"enter a second number\"))\n",
    "num3 = int(input(\"enter a third number\"))\n",
    "if num1 >= num2 and num1<=num3 or num1 <= num2 and num1>=num3 :\n",
    "    print(\"second largest number is \",num1)\n",
    "elif num2>=num1 and num2<=num3 or num2<=num1 and num2>=num3 :\n",
    "    print(\"second largest number is \",num2) \n",
    "else:    \n",
    "    print(\"second largest number is \",num3)\n",
    "\n",
    "    "
   ]
  },
  {
   "cell_type": "code",
   "execution_count": 8,
   "id": "89eb47a1-9a8a-480b-b1f2-5c11f31d47b4",
   "metadata": {},
   "outputs": [
    {
     "ename": "IndentationError",
     "evalue": "unexpected indent (1992518351.py, line 6)",
     "output_type": "error",
     "traceback": [
      "\u001b[1;36m  Cell \u001b[1;32mIn[8], line 6\u001b[1;36m\u001b[0m\n\u001b[1;33m    discount_percentage = 0.20\u001b[0m\n\u001b[1;37m    ^\u001b[0m\n\u001b[1;31mIndentationError\u001b[0m\u001b[1;31m:\u001b[0m unexpected indent\n"
     ]
    }
   ],
   "source": [
    "#Q6.Accept the marked price from the user and calculate the net amount as(Marked Price - Discount ) to pay according to following criteria:\n",
    "price = int(input(\"enter a marked price\"))\n",
    "discount_percentage = 0.0\n",
    "if  price>10000:\n",
    "  print(\"discount will be 20%\")\n",
    "    discount_percentage = 0.20\n",
    "elif  price>7000 and price <= 10000:\n",
    "  print(\"discount will be 15%\")\n",
    "   discount percentage = 0.15\n",
    "elif  price <= 7000:\n",
    "  print(\"discount will be 10%\")\n",
    "       discount percentage = 0.10    \n",
    "else:\n",
    "  print(\"discount will not be provided \")\n",
    "           discount percentage = 0.0\n",
    "discount amount = price * discount_percentage\n",
    "net amount = price - discount amount\n",
    "print(f\"marked price:{price}\")\n",
    "print(f\"discount percentage:{discount percentage}\")\n",
    "print(f\"discount amount:{discount amount}\")\n",
    "print(f\"net amount:{net amount}\")\n",
    "   "
   ]
  },
  {
   "cell_type": "code",
   "execution_count": 29,
   "id": "f21c9687-d526-4ce2-bc7a-addb01c6dbcb",
   "metadata": {},
   "outputs": [
    {
     "ename": "SyntaxError",
     "evalue": "invalid syntax (4023774048.py, line 9)",
     "output_type": "error",
     "traceback": [
      "\u001b[1;36m  Cell \u001b[1;32mIn[29], line 9\u001b[1;36m\u001b[0m\n\u001b[1;33m    elif age3 < youngest_ age:\u001b[0m\n\u001b[1;37m                          ^\u001b[0m\n\u001b[1;31mSyntaxError\u001b[0m\u001b[1;31m:\u001b[0m invalid syntax\n"
     ]
    }
   ],
   "source": [
    "#Q3.Accept the age of 4 people and display the youngest one?\n",
    "age1 = int(input(\"enter age of person 1: \"))\n",
    "age2 = int(input(\"enter age of person2: \"))\n",
    "age3 = int(input(\"enter age of person3: \"))\n",
    "age4 = int(input(\"enter age of person4: \"))\n",
    "youngest_age = age1\n",
    "if age2 < youngest_age:\n",
    "    youngest_age = age2\n",
    "elif age3 < youngest_ age:\n",
    "    youngest_age = age3\n",
    "elif age4 < youngest_ age:\n",
    "    youngest_age = age4\n",
    "print(f\"the youngest person is {youngest_ age}\")    \n",
    "    \n",
    "    \n",
    "    "
   ]
  },
  {
   "cell_type": "code",
   "execution_count": 20,
   "id": "bd667c00-a53c-48ac-8f3c-0867479e7ff7",
   "metadata": {},
   "outputs": [
    {
     "name": "stdin",
     "output_type": "stream",
     "text": [
      "enter a salary: 15000\n",
      "enter a years of service 10\n"
     ]
    },
    {
     "name": "stdout",
     "output_type": "stream",
     "text": [
      "net bonus_amount is:1200.00\n"
     ]
    }
   ],
   "source": [
    "#Q4.A company decided to give bonus to employee according to following criteria:\n",
    "salary = float(input(\"enter a salary:\"))\n",
    "years_of_service = int(input(\"enter a years of service\"))\n",
    "bonus_rate = 0.0\n",
    "if years_of_service > 10:\n",
    "    bonus_rate = 0.10\n",
    "elif years_of_service >=6 and years_of_service<=10:\n",
    "     bonus_rate = 0.08\n",
    "else:\n",
    "    bonus_rate = 0.05\n",
    "bonus_amount = salary*bonus_rate\n",
    "print(f\"net bonus_amount is:{bonus_amount:.2f}\")\n",
    "    \n"
   ]
  },
  {
   "cell_type": "code",
   "execution_count": 23,
   "id": "a0b31ea2-4bdb-4f2f-acb5-763e4a4c71d1",
   "metadata": {},
   "outputs": [
    {
     "name": "stdin",
     "output_type": "stream",
     "text": [
      "enter the percentage: 56\n"
     ]
    },
    {
     "name": "stdout",
     "output_type": "stream",
     "text": [
      "Grade: D\n"
     ]
    }
   ],
   "source": [
    "#Q2.WAP to accept percentage from the user and display the grade according to the following criteria:\n",
    "percentage = int(input(\"enter the percentage:\"))\n",
    "if percentage > 90:\n",
    "    print(\"Grade: A\")\n",
    "elif percentage > 80:\n",
    "    print(\"Grade: B\")\n",
    "elif percentage >= 60:\n",
    "    print(\"Grade: C\")\n",
    "else:\n",
    "    print(\"Grade: D\")\n",
    "    \n",
    "    \n"
   ]
  },
  {
   "cell_type": "code",
   "execution_count": 27,
   "id": "9e6e05e5-0dc2-4a8b-bb45-91755b5d04a0",
   "metadata": {},
   "outputs": [
    {
     "name": "stdin",
     "output_type": "stream",
     "text": [
      " enter the number of units consumed: 200\n"
     ]
    },
    {
     "name": "stdout",
     "output_type": "stream",
     "text": [
      "total electricity bill:500\n"
     ]
    }
   ],
   "source": [
    "#Q1.WAP to calculate the electricity bill using only if statement ? \n",
    "units = int(input(\" enter the number of units consumed:\"))\n",
    "bill_amount = 0\n",
    "if units > 200:\n",
    "    bill_amount = bill_amount + (units - 200)* 10\n",
    "    units = 200\n",
    "if units > 100:\n",
    "    bill_amount = bill_amount + (units - 100)*5\n",
    "    units = 100\n",
    "if units > 0:\n",
    "    bill_amount = bill_amount + 0\n",
    "print(f\"total electricity bill:{bill_amount}\")    \n"
   ]
  },
  {
   "cell_type": "code",
   "execution_count": null,
   "id": "64a34c1d-a36b-4781-9d04-4a0644fd10ea",
   "metadata": {},
   "outputs": [],
   "source": []
  }
 ],
 "metadata": {
  "kernelspec": {
   "display_name": "Python 3 (ipykernel)",
   "language": "python",
   "name": "python3"
  },
  "language_info": {
   "codemirror_mode": {
    "name": "ipython",
    "version": 3
   },
   "file_extension": ".py",
   "mimetype": "text/x-python",
   "name": "python",
   "nbconvert_exporter": "python",
   "pygments_lexer": "ipython3",
   "version": "3.13.5"
  }
 },
 "nbformat": 4,
 "nbformat_minor": 5
}
